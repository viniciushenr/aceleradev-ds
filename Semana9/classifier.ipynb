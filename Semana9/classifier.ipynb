{
 "cells": [
  {
   "cell_type": "code",
   "execution_count": null,
   "metadata": {},
   "outputs": [],
   "source": [
    "import os\n",
    "\n",
    "import pandas as pd\n",
    "import matplotlib.pyplot as plt\n",
    "import numpy as np"
   ]
  },
  {
   "cell_type": "code",
   "execution_count": null,
   "metadata": {},
   "outputs": [],
   "source": [
    "FILE_PATH = os.path.join(os.path.abspath('.'))"
   ]
  },
  {
   "cell_type": "code",
   "execution_count": null,
   "metadata": {},
   "outputs": [],
   "source": [
    "df_train = pd.read_csv(os.path.join(FILE_PATH, 'train.csv'))\n",
    "df_test = pd.read_csv(os.path.join(FILE_PATH, 'test.csv'))"
   ]
  },
  {
   "cell_type": "code",
   "execution_count": null,
   "metadata": {},
   "outputs": [],
   "source": [
    "df_train['IN_TREINEIRO'].value_counts()\n",
    "## Desbalanceamento\n",
    "# Classe 0 (Não treineiro) 11947 : 87%\n",
    "# Classe 1 (Treineiro) 1783 : 13%"
   ]
  },
  {
   "cell_type": "code",
   "execution_count": null,
   "metadata": {},
   "outputs": [],
   "source": [
    "#Possíveis features para a classificação\n",
    "\n",
    "df_train.corr()['IN_TREINEIRO'] > 0.20 \n",
    "## TP_ST_CONCLUSAO : Alta correlação posistiva\n",
    "df_train.corr()['IN_TREINEIRO'] < -0.20 \n",
    "## NU_IDADE / TP_ANO_CONCLUIU / TP_ESCOLA : Alta correlação negativa"
   ]
  },
  {
   "cell_type": "code",
   "execution_count": null,
   "metadata": {},
   "outputs": [],
   "source": [
    "# Tratamento do desbalanceamento do target\n",
    "from imblearn.over_sampling import SMOTE\n",
    "df_train_copy = df_train.copy()\n",
    "df_test_copy = df_test.copy()\n",
    "\n",
    "target = df_train_copy['IN_TREINEIRO']\n",
    "features = df_train_copy[['NU_IDADE', 'TP_ANO_CONCLUIU', 'TP_ESCOLA', 'TP_ST_CONCLUSAO']]\n",
    "\n",
    "# Estratégia adotada de incrementar novos dados a classe minoritaria\n",
    "smote = SMOTE(sampling_strategy=\"minority\")\n",
    "\n",
    "X_smote, y_smote = smote.fit_resample(features, target)"
   ]
  },
  {
   "cell_type": "code",
   "execution_count": null,
   "metadata": {},
   "outputs": [],
   "source": [
    "# Verificação do balançeamento\n",
    "y_smote.value_counts()"
   ]
  },
  {
   "cell_type": "code",
   "execution_count": null,
   "metadata": {},
   "outputs": [],
   "source": [
    "## Padronização das variáveis\n",
    "from sklearn.preprocessing import StandardScaler\n",
    "sc = StandardScaler()  \n",
    "X_train = sc.fit_transform(X_smote)  \n",
    "X_test = sc.transform(df_test_copy[['NU_IDADE', 'TP_ANO_CONCLUIU', 'TP_ESCOLA', 'TP_ST_CONCLUSAO']])"
   ]
  },
  {
   "cell_type": "code",
   "execution_count": null,
   "metadata": {},
   "outputs": [],
   "source": [
    "## Busca pelos melhores parametros\n",
    "from sklearn.model_selection import GridSearchCV\n",
    "from sklearn.ensemble import RandomForestRegressor\n",
    "\n",
    "estimator = RandomForestRegressor()\n",
    "param_grid = { \n",
    "        \"n_estimators\" : [100, 200, 300, 400, 500],\n",
    "        \"max_depth\" : [2, 4, 6, 8, 10],\n",
    "        \"max_features\" : [\"auto\", \"sqrt\", \"log2\"],\n",
    "        \"min_samples_split\" : [20, 40, 60, 80, 100],\n",
    "        \"bootstrap\": [True, False],\n",
    "        }\n",
    "\n",
    "grid = GridSearchCV(estimator, param_grid, n_jobs=-1, cv=5)\n",
    "\n",
    "grid.fit(X_train, y_train)\n",
    "\n",
    "grid.best_score_ , grid.best_params_"
   ]
  },
  {
   "cell_type": "code",
   "execution_count": null,
   "metadata": {},
   "outputs": [],
   "source": [
    "## Utilização dos melhores parametros encontrados\n",
    "from sklearn.ensemble import RandomForestRegressor\n",
    "estimator = RandomForestRegressor(\n",
    "                                max_depth=8,\n",
    "                                n_estimators=500,\n",
    "                                 )\n",
    "estimator.fit(X_train, y_smote)\n",
    "estimator.predict(X_test)"
   ]
  },
  {
   "cell_type": "code",
   "execution_count": null,
   "metadata": {},
   "outputs": [],
   "source": [
    "answer = pd.DataFrame(data={'NU_INSCRICAO':df_test['NU_INSCRICAO'],\n",
    "                  'IN_TREINEIRO':estimator.predict(X_test)})\n",
    "answer.to_csv(os.path.join(FILE_PATH, 'answer.csv'), sep=',', index=False)"
   ]
  }
 ],
 "metadata": {
  "kernelspec": {
   "display_name": "Python 3",
   "language": "python",
   "name": "python3"
  },
  "language_info": {
   "codemirror_mode": {
    "name": "ipython",
    "version": 3
   },
   "file_extension": ".py",
   "mimetype": "text/x-python",
   "name": "python",
   "nbconvert_exporter": "python",
   "pygments_lexer": "ipython3",
   "version": "3.7.3"
  }
 },
 "nbformat": 4,
 "nbformat_minor": 2
}
