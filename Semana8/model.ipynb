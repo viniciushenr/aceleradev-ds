{
 "cells": [
  {
   "cell_type": "code",
   "execution_count": null,
   "metadata": {},
   "outputs": [],
   "source": [
    "import os\n",
    "\n",
    "import pandas as pd\n",
    "import numpy as np\n",
    "import matplotlib.pyplot as plt"
   ]
  },
  {
   "cell_type": "code",
   "execution_count": null,
   "metadata": {},
   "outputs": [],
   "source": [
    "FILE_PATH = os.path.join(os.path.abspath('.'))\n",
    "BASE_DIR = os.path.dirname(FILE_PATH)"
   ]
  },
  {
   "cell_type": "code",
   "execution_count": null,
   "metadata": {},
   "outputs": [],
   "source": [
    "df_train = pd.read_csv(os.path.join(FILE_PATH, 'train.csv'))\n",
    "df_test = pd.read_csv(os.path.join(FILE_PATH, 'test.csv'))"
   ]
  },
  {
   "cell_type": "code",
   "execution_count": null,
   "metadata": {},
   "outputs": [],
   "source": [
    "## Dataset apenas com o target (variável alvo) preenchida\n",
    "df_train_modified = df_train[df_train['NU_NOTA_MT'].isnull() == False]"
   ]
  },
  {
   "cell_type": "code",
   "execution_count": null,
   "metadata": {},
   "outputs": [],
   "source": [
    "## Seleção de features\n",
    "df_auxiliar = pd.DataFrame(data={'Coluna': df_train_modified.corr()['NU_NOTA_MT'].index, \n",
    "                                'Valores': df_train_modified.corr()['NU_NOTA_MT'].values})"
   ]
  },
  {
   "cell_type": "code",
   "execution_count": null,
   "metadata": {},
   "outputs": [],
   "source": [
    "df_auxiliar = df_auxiliar[df_auxiliar['Coluna'] != 'NU_NOTA_MT'].copy() ## Retirar target do problema\n",
    "df_auxiliar.dropna(inplace=True) ## Retirar linhas que não possuem correlação com target\n",
    "\n",
    "## Valores de 0.25 e -0.20 escolhidos referentes a uma correlação média positiva e negativa com NU_NOTA_MT\n",
    "df_auxiliar = df_auxiliar[(df_auxiliar['Valores'] > 0.25) | (df_auxiliar['Valores'] < -0.20)].copy()\n",
    "df_auxiliar.reset_index(drop = True, inplace=True)"
   ]
  },
  {
   "cell_type": "code",
   "execution_count": null,
   "metadata": {},
   "outputs": [],
   "source": [
    "## Features correlacioandas com o target\n",
    "features_corr = df_auxiliar['Coluna'].tolist()\n",
    "\n",
    "## Verificação se as features selecionadas existem no df_test\n",
    "features = []\n",
    "for i in features_corr:\n",
    "    if i in df_test.columns.tolist():\n",
    "        features.append(i)\n",
    "    else:\n",
    "        print(\"Features {} não existente no df_test\".format(i))\n",
    "print(features)"
   ]
  },
  {
   "cell_type": "code",
   "execution_count": null,
   "metadata": {},
   "outputs": [],
   "source": [
    "target = 'NU_NOTA_MT' ## Definição do target do problema"
   ]
  },
  {
   "cell_type": "code",
   "execution_count": null,
   "metadata": {
    "scrolled": false
   },
   "outputs": [],
   "source": [
    "## Tratamento dos datasets\n",
    "df_train_modified = df_train_modified[features+[target]].copy()\n",
    "df_train_modified.fillna(0, inplace=True)\n",
    "\n",
    "df_test_modified = df_test[features].copy()\n",
    "df_test_modified.fillna(0, inplace=True)"
   ]
  },
  {
   "cell_type": "code",
   "execution_count": null,
   "metadata": {},
   "outputs": [],
   "source": [
    "## Divisão das bases de treinamento e teste\n",
    "X_train = df_train_modified[features]\n",
    "X_test = df_test_modified[features]\n",
    "y_train = df_train_modified[target]"
   ]
  },
  {
   "cell_type": "code",
   "execution_count": null,
   "metadata": {},
   "outputs": [],
   "source": [
    "## Padronização das variáveis\n",
    "from sklearn.preprocessing import StandardScaler\n",
    "sc = StandardScaler()  \n",
    "x_train = sc.fit_transform(X_train)  \n",
    "x_test = sc.transform(X_test)"
   ]
  },
  {
   "cell_type": "code",
   "execution_count": null,
   "metadata": {},
   "outputs": [],
   "source": [
    "## Busca pelos melhores parametros\n",
    "from sklearn.model_selection import GridSearchCV\n",
    "from sklearn.ensemble import RandomForestRegressor\n",
    "\n",
    "estimator = RandomForestRegressor()\n",
    "param_grid = { \n",
    "        \"n_estimators\" : [100, 200, 300, 400, 500],\n",
    "        \"max_depth\" : [2, 4, 6, 8, 10],\n",
    "        \"max_features\" : [\"auto\", \"sqrt\", \"log2\"],\n",
    "        \"min_samples_split\" : [20, 40, 60, 80, 100],\n",
    "        \"bootstrap\": [True, False],\n",
    "        }\n",
    "\n",
    "grid = GridSearchCV(estimator, param_grid, n_jobs=-1, cv=5)\n",
    "\n",
    "grid.fit(X_train, y_train)\n",
    "\n",
    "grid.best_score_ , grid.best_params_"
   ]
  },
  {
   "cell_type": "code",
   "execution_count": null,
   "metadata": {},
   "outputs": [],
   "source": [
    "## Utilização dos melhores parametros encontrados\n",
    "estimator = RandomForestRegressor(\n",
    "                                max_depth=8,\n",
    "                                n_estimators=500,\n",
    "                                 )\n",
    "estimator.fit(X_train, y_train)\n",
    "estimator.predict(X_test)"
   ]
  },
  {
   "cell_type": "code",
   "execution_count": null,
   "metadata": {},
   "outputs": [],
   "source": [
    "answer = pd.DataFrame(data={'NU_INSCRICAO':df_test['NU_INSCRICAO'],\n",
    "                  'NU_NOTA_MT':estimator.predict(df_test_modified)})\n",
    "answer.to_csv(os.path.join(FILE_PATH, 'answer.csv'), sep=',', index=False)"
   ]
  }
 ],
 "metadata": {
  "kernelspec": {
   "display_name": "Python 3",
   "language": "python",
   "name": "python3"
  },
  "language_info": {
   "codemirror_mode": {
    "name": "ipython",
    "version": 3
   },
   "file_extension": ".py",
   "mimetype": "text/x-python",
   "name": "python",
   "nbconvert_exporter": "python",
   "pygments_lexer": "ipython3",
   "version": "3.7.3"
  }
 },
 "nbformat": 4,
 "nbformat_minor": 2
}
