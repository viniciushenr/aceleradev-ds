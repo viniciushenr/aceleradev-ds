{
 "cells": [
  {
   "cell_type": "markdown",
   "metadata": {},
   "source": [
    "### Vinicius Henrique | Production engineering"
   ]
  },
  {
   "cell_type": "markdown",
   "metadata": {},
   "source": [
    "## A machine learning forecasting model for COVID-19 pandemic in Brazil"
   ]
  },
  {
   "cell_type": "markdown",
   "metadata": {},
   "source": [
    "### Esse trabalho é uma adaptação de um artigo da SpringLink: *A machine learning forecasting model for COVID-19 pandemic in India*\n",
    "\n",
    "### O artigo teve como base a investigação da evolução dos casos de Covid-19 na Índia utilizando uma base de dados disponibilizado pelo Kaggle"
   ]
  },
  {
   "cell_type": "code",
   "execution_count": null,
   "metadata": {},
   "outputs": [],
   "source": [
    "import pandas as pd"
   ]
  },
  {
   "cell_type": "code",
   "execution_count": null,
   "metadata": {},
   "outputs": [],
   "source": [
    "# Dates format %Y%m%d\n",
    "df = pd.read_csv('covid_19_clean_complete.csv')"
   ]
  },
  {
   "cell_type": "code",
   "execution_count": null,
   "metadata": {},
   "outputs": [],
   "source": [
    "df['Date'].min()"
   ]
  },
  {
   "cell_type": "code",
   "execution_count": null,
   "metadata": {
    "scrolled": true
   },
   "outputs": [],
   "source": [
    "df = df.loc[df['Country/Region'] == 'Brazil']\n",
    "df.drop(['Province/State', 'Country/Region', 'WHO Region', 'Lat', 'Long', 'Date'], axis=1, inplace=True)\n",
    "df = df.reset_index(drop=True)"
   ]
  },
  {
   "cell_type": "markdown",
   "metadata": {},
   "source": [
    "## O modelo de regressão implementado no paper foi o Vector Autoregression (VAR)\n",
    "\n",
    "### Dessa forma, para gerar resultados semelhantes aos do trabalho desenvolvido, será utilizado o mesmo modelo"
   ]
  },
  {
   "cell_type": "code",
   "execution_count": null,
   "metadata": {},
   "outputs": [],
   "source": [
    "from statsmodels.tsa.vector_ar.var_model import VAR\n",
    "import matplotlib.pyplot as plt"
   ]
  },
  {
   "cell_type": "code",
   "execution_count": null,
   "metadata": {},
   "outputs": [],
   "source": [
    "# Creating the train and validation set\n",
    "X_train, X_test = df[0:-10], df[-10:] #90% dos dados para treinamento e 10% para teste"
   ]
  },
  {
   "cell_type": "code",
   "execution_count": null,
   "metadata": {},
   "outputs": [],
   "source": [
    "# Fit the model\n",
    "model = VAR(endog=X_train)\n",
    "\n",
    "# Fit to a VAR model \n",
    "model_fit = model.fit(maxlags=15)"
   ]
  },
  {
   "cell_type": "code",
   "execution_count": null,
   "metadata": {},
   "outputs": [],
   "source": [
    "# Pegar o maxlags utilizado\n",
    "lag_order = model_fit.k_ar\n",
    "\n",
    "input_data = X_train.values[-lag_order:]\n",
    "\n",
    "# Forecasting (Predicts)\n",
    "pred = model_fit.forecast(y=input_data, steps=10)\n",
    "\n",
    "# Transformando em DataFrame\n",
    "pred = (pd.DataFrame(pred, index=X_test.index, columns=X_test.columns + '_pred'))"
   ]
  },
  {
   "cell_type": "code",
   "execution_count": null,
   "metadata": {},
   "outputs": [],
   "source": [
    "# Adicionando as datas nos indices para plotagem\n",
    "pred = pred.rename(index={157:'2020-06-27',158:'2020-06-28',159:'2020-06-29',160:'2020-06-30',161:'2020-07-01',\n",
    "                         162:'2020-07-02',163:'2020-07-03',164:'2020-07-04',165:'2020-07-05',166:'2020-07-06'})\n",
    "X_test = X_test.rename(index={157:'2020-06-27',158:'2020-06-28',159:'2020-06-29',160:'2020-06-30',161:'2020-07-01',\n",
    "                         162:'2020-07-02',163:'2020-07-03',164:'2020-07-04',165:'2020-07-05',166:'2020-07-06'})"
   ]
  },
  {
   "cell_type": "code",
   "execution_count": null,
   "metadata": {},
   "outputs": [],
   "source": [
    "import matplotlib.pyplot as plt\n",
    "plt.figure(figsize=(12,5))\n",
    "plt.xlabel('Date')\n",
    "\n",
    "ax1 = X_test['Confirmed'].plot(color='blue', grid=True, label='Casos confirmados reais')\n",
    "ax2 = pred['Confirmed_pred'].plot(color='red', grid=True, secondary_y=True, label='Casos confirmados previsto')\n",
    "\n",
    "ax1.legend(loc=1)\n",
    "ax2.legend(loc=2)\n",
    "plt.title('Casos de Covid-19 confirmados no Brazil nos últimos 10 dias')\n",
    "#plt.savefig('confirmados.png')\n",
    "plt.show()"
   ]
  },
  {
   "cell_type": "code",
   "execution_count": null,
   "metadata": {},
   "outputs": [],
   "source": [
    "plt.figure(figsize=(12,5))\n",
    "plt.xlabel('Date')\n",
    "\n",
    "ax1 = X_test['Deaths'].plot(color='blue', grid=True, label='Casos mortes reais')\n",
    "ax2 = pred['Deaths_pred'].plot(color='red', grid=True, secondary_y=True, label='Casos mortes previsto')\n",
    "\n",
    "ax1.legend(loc=1)\n",
    "ax2.legend(loc=2)\n",
    "plt.title('Casos de Covid-19 mortes no Brazil nos últimos 10 dias')\n",
    "#plt.savefig('mortes.png')\n",
    "plt.show()"
   ]
  },
  {
   "cell_type": "code",
   "execution_count": null,
   "metadata": {},
   "outputs": [],
   "source": [
    "plt.figure(figsize=(12,5))\n",
    "plt.xlabel('Date')\n",
    "\n",
    "ax1 = X_test['Recovered'].plot(color='blue', grid=True, label='Casos recuperados reais')\n",
    "ax2 = pred['Recovered_pred'].plot(color='red', grid=True, secondary_y=True, label='Casos recuperados previsto')\n",
    "\n",
    "ax1.legend(loc=1)\n",
    "ax2.legend(loc=2)\n",
    "plt.title('Casos de Covid-19 confirmados no Brazil nos últimos 10 dias')\n",
    "plt.show()"
   ]
  },
  {
   "cell_type": "code",
   "execution_count": null,
   "metadata": {},
   "outputs": [],
   "source": [
    "plt.figure(figsize=(12,5))\n",
    "plt.xlabel('Date')\n",
    "\n",
    "ax1 = X_test['Active'].plot(color='blue', grid=True, label='Casos ativos reais')\n",
    "ax2 = pred['Active_pred'].plot(color='red', grid=True, secondary_y=True, label='Casos ativos previsto')\n",
    "\n",
    "ax1.legend(loc=1)\n",
    "ax2.legend(loc=2)\n",
    "plt.title('Casos de Covid-19 ativos no Brazil nos últimos 10 dias')\n",
    "plt.show()"
   ]
  },
  {
   "cell_type": "markdown",
   "metadata": {},
   "source": [
    "### Links úteis:\n",
    "- Paper: https://link.springer.com/article/10.1007/s00477-020-01827-8\n",
    "- Dataset: https://www.kaggle.com/imdevskp/corona-virus-report\n",
    "- Sklearn models: https://scikit-learn.org/stable/_static/ml_map.png\n",
    "- Vector Autoregression (VAR): https://www.statsmodels.org/stable/generated/statsmodels.tsa.vector_ar.var_model.VAR.html"
   ]
  }
 ],
 "metadata": {
  "kernelspec": {
   "display_name": "Python 3",
   "language": "python",
   "name": "python3"
  },
  "language_info": {
   "codemirror_mode": {
    "name": "ipython",
    "version": 3
   },
   "file_extension": ".py",
   "mimetype": "text/x-python",
   "name": "python",
   "nbconvert_exporter": "python",
   "pygments_lexer": "ipython3",
   "version": "3.7.3"
  }
 },
 "nbformat": 4,
 "nbformat_minor": 2
}
