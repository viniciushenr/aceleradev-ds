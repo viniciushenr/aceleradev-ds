{
 "cells": [
  {
   "cell_type": "markdown",
   "metadata": {},
   "source": [
    "# Desafio 4\n",
    "\n",
    "Neste desafio, vamos praticar um pouco sobre testes de hipóteses. Utilizaremos o _data set_ [2016 Olympics in Rio de Janeiro](https://www.kaggle.com/rio2016/olympic-games/), que contém dados sobre os atletas das Olimpíadas de 2016 no Rio de Janeiro.\n",
    "\n",
    "Esse _data set_ conta com informações gerais sobre 11538 atletas como nome, nacionalidade, altura, peso e esporte praticado. Estaremos especialmente interessados nas variáveis numéricas altura (`height`) e peso (`weight`). As análises feitas aqui são parte de uma Análise Exploratória de Dados (EDA).\n",
    "\n",
    "> Obs.: Por favor, não modifique o nome das funções de resposta."
   ]
  },
  {
   "cell_type": "markdown",
   "metadata": {},
   "source": [
    "## _Setup_ geral"
   ]
  },
  {
   "cell_type": "code",
   "execution_count": null,
   "metadata": {},
   "outputs": [],
   "source": [
    "import pandas as pd\n",
    "import matplotlib.pyplot as plt\n",
    "import numpy as np\n",
    "import scipy.stats as sct\n",
    "import seaborn as sns\n",
    "import statsmodels.api as sm"
   ]
  },
  {
   "cell_type": "code",
   "execution_count": null,
   "metadata": {},
   "outputs": [],
   "source": [
    "#%matplotlib inline\n",
    "\n",
    "from IPython.core.pylabtools import figsize\n",
    "\n",
    "\n",
    "figsize(12, 8)\n",
    "\n",
    "sns.set()"
   ]
  },
  {
   "cell_type": "code",
   "execution_count": null,
   "metadata": {},
   "outputs": [],
   "source": [
    "athletes = pd.read_csv(\"athletes.csv\")"
   ]
  },
  {
   "cell_type": "code",
   "execution_count": null,
   "metadata": {},
   "outputs": [],
   "source": [
    "def get_sample(df, col_name, n=100, seed=42):\n",
    "    \"\"\"Get a sample from a column of a dataframe.\n",
    "    \n",
    "    It drops any numpy.nan entries before sampling. The sampling\n",
    "    is performed without replacement.\n",
    "    \n",
    "    Example of numpydoc for those who haven't seen yet.\n",
    "    \n",
    "    Parameters\n",
    "    ----------\n",
    "    df : pandas.DataFrame\n",
    "        Source dataframe.\n",
    "    col_name : str\n",
    "        Name of the column to be sampled.\n",
    "    n : int\n",
    "        Sample size. Default is 100.\n",
    "    seed : int\n",
    "        Random seed. Default is 42.\n",
    "    \n",
    "    Returns\n",
    "    -------\n",
    "    pandas.Series\n",
    "        Sample of size n from dataframe's column.\n",
    "    \"\"\"\n",
    "    np.random.seed(seed)\n",
    "    \n",
    "    random_idx = np.random.choice(df[col_name].dropna().index, size=n, replace=False)\n",
    "    \n",
    "    return df.loc[random_idx, col_name]"
   ]
  },
  {
   "cell_type": "markdown",
   "metadata": {},
   "source": [
    "## Inicia sua análise a partir daqui"
   ]
  },
  {
   "cell_type": "markdown",
   "metadata": {},
   "source": [
    "## Questão 1\n",
    "\n",
    "Considerando uma amostra de tamanho 3000 da coluna `height` obtida com a função `get_sample()`, execute o teste de normalidade de Shapiro-Wilk com a função `scipy.stats.shapiro()`. Podemos afirmar que as alturas são normalmente distribuídas com base nesse teste (ao nível de significância de 5%)? Responda com um boolean (`True` ou `False`)."
   ]
  },
  {
   "cell_type": "code",
   "execution_count": null,
   "metadata": {},
   "outputs": [],
   "source": [
    "def q1():\n",
    "    data = get_sample(athletes, 'height', n=3000)\n",
    "    stat, p = sct.shapiro(data)\n",
    "\n",
    "    alpha = 0.05\n",
    "    if p > alpha:\n",
    "        return True #('Sample looks Gaussian (fail to reject H0)') #Não pode-se afirmar que os dados vem de uma distribuição normal\n",
    "    else:\n",
    "        return False #('Sample does not look Gaussian (reject H0)') #Pode-se afirmar que os dados não vem de uma distribuição normal"
   ]
  },
  {
   "cell_type": "code",
   "execution_count": null,
   "metadata": {},
   "outputs": [],
   "source": [
    "# Sua análise começa aqui.\n",
    "#data = get_sample(athletes, 'height', n=3000)\n",
    "#sm.qqplot(data, fit=True, line='45')"
   ]
  },
  {
   "cell_type": "markdown",
   "metadata": {},
   "source": [
    "__Para refletir__:\n",
    "\n",
    "* Plote o histograma dessa variável (com, por exemplo, `bins=25`). A forma do gráfico e o resultado do teste são condizentes? Por que?\n",
    "* Plote o qq-plot para essa variável e a analise.\n",
    "* Existe algum nível de significância razoável que nos dê outro resultado no teste? (Não faça isso na prática. Isso é chamado _p-value hacking_, e não é legal)."
   ]
  },
  {
   "cell_type": "markdown",
   "metadata": {},
   "source": [
    "## Questão 2\n",
    "\n",
    "Repita o mesmo procedimento acima, mas agora utilizando o teste de normalidade de Jarque-Bera através da função `scipy.stats.jarque_bera()`. Agora podemos afirmar que as alturas são normalmente distribuídas (ao nível de significância de 5%)? Responda com um boolean (`True` ou `False`)."
   ]
  },
  {
   "cell_type": "code",
   "execution_count": null,
   "metadata": {},
   "outputs": [],
   "source": [
    "def q2():\n",
    "    data = get_sample(athletes, 'height', n=3000)\n",
    "    stat, p = sct.jarque_bera(data)\n",
    "    \n",
    "    alpha = 0.05\n",
    "    if p > alpha:\n",
    "        return True #('Sample looks Gaussian (fail to reject H0)') #Não pode-se afirmar que os dados vem de uma distribuição normal\n",
    "    else:\n",
    "        return False #('Sample does not look Gaussian (reject H0)') #Pode-se afirmar que os dados não vem de uma distribuição normal"
   ]
  },
  {
   "cell_type": "markdown",
   "metadata": {},
   "source": [
    "__Para refletir__:\n",
    "\n",
    "* Esse resultado faz sentido?"
   ]
  },
  {
   "cell_type": "markdown",
   "metadata": {},
   "source": [
    "## Questão 3\n",
    "\n",
    "Considerando agora uma amostra de tamanho 3000 da coluna `weight` obtida com a função `get_sample()`. Faça o teste de normalidade de D'Agostino-Pearson utilizando a função `scipy.stats.normaltest()`. Podemos afirmar que os pesos vêm de uma distribuição normal ao nível de significância de 5%? Responda com um boolean (`True` ou `False`)."
   ]
  },
  {
   "cell_type": "code",
   "execution_count": null,
   "metadata": {},
   "outputs": [],
   "source": [
    "def q3():\n",
    "    data = get_sample(athletes, 'weight', n=3000)\n",
    "    stat, p = sct.normaltest(data)\n",
    "    \n",
    "    alpha = 0.05\n",
    "    if p > alpha:\n",
    "        return True #('Sample looks Gaussian (fail to reject H0)') #Não pode-se afirmar que os dados vem de uma distribuição normal\n",
    "    else:\n",
    "        return False #('Sample does not look Gaussian (reject H0)') #Pode-se afirmar que os dados não vem de uma distribuição normal"
   ]
  },
  {
   "cell_type": "markdown",
   "metadata": {},
   "source": [
    "__Para refletir__:\n",
    "\n",
    "* Plote o histograma dessa variável (com, por exemplo, `bins=25`). A forma do gráfico e o resultado do teste são condizentes? Por que?\n",
    "* Um _box plot_ também poderia ajudar a entender a resposta."
   ]
  },
  {
   "cell_type": "markdown",
   "metadata": {},
   "source": [
    "## Questão 4\n",
    "\n",
    "Realize uma transformação logarítmica em na amostra de `weight` da questão 3 e repita o mesmo procedimento. Podemos afirmar a normalidade da variável transformada ao nível de significância de 5%? Responda com um boolean (`True` ou `False`)."
   ]
  },
  {
   "cell_type": "code",
   "execution_count": null,
   "metadata": {},
   "outputs": [],
   "source": [
    "def q4():\n",
    "    data = get_sample(athletes, 'weight', n=3000)\n",
    "    stat, p = sct.normaltest(np.log(data))\n",
    "    \n",
    "    alpha = 0.05\n",
    "    if p > alpha:\n",
    "        return True #('Sample looks Gaussian (fail to reject H0)') #Não pode-se afirmar que os dados vem de uma distribuição normal\n",
    "    else:\n",
    "        return False #('Sample does not look Gaussian (reject H0)') #Pode-se afirmar que os dados não vem de uma distribuição normal"
   ]
  },
  {
   "cell_type": "markdown",
   "metadata": {},
   "source": [
    "__Para refletir__:\n",
    "\n",
    "* Plote o histograma dessa variável (com, por exemplo, `bins=25`). A forma do gráfico e o resultado do teste são condizentes? Por que?\n",
    "* Você esperava um resultado diferente agora?"
   ]
  },
  {
   "cell_type": "markdown",
   "metadata": {},
   "source": [
    "> __Para as questão 5 6 e 7 a seguir considere todos testes efetuados ao nível de significância de 5%__."
   ]
  },
  {
   "cell_type": "markdown",
   "metadata": {},
   "source": [
    "## Questão 5\n",
    "\n",
    "Obtenha todos atletas brasileiros, norte-americanos e canadenses em `DataFrame`s chamados `bra`, `usa` e `can`,respectivamente. Realize um teste de hipóteses para comparação das médias das alturas (`height`) para amostras independentes e variâncias diferentes com a função `scipy.stats.ttest_ind()` entre `bra` e `usa`. Podemos afirmar que as médias são estatisticamente iguais? Responda com um boolean (`True` ou `False`)."
   ]
  },
  {
   "cell_type": "code",
   "execution_count": null,
   "metadata": {},
   "outputs": [],
   "source": [
    "def q5():\n",
    "    bra = athletes.loc[athletes['nationality'] == 'BRA']\n",
    "    bra = bra.loc[bra['height'].isnull() == False] #Retirando valores missings\n",
    "    usa = athletes.loc[athletes['nationality'] == 'USA']\n",
    "    usa = usa.loc[usa['height'].isnull() == False]\n",
    "    can = athletes.loc[athletes['nationality'] == 'CAN']\n",
    "    can = can.loc[can['height'].isnull() == False]\n",
    "\n",
    "    #Amostras independentes: ttest_ind; Amostras dependentes: ttest_rel\n",
    "    #Variâncias diferentes: equal_var(True por default, significando iguais variâncias na amostra)\n",
    "    \n",
    "    stat, p = sct.ttest_ind(bra['height'].values, usa['height'].values, equal_var=False)\n",
    "    \n",
    "    alpha = 0.05\n",
    "    if p > alpha:\n",
    "        return True #('Sample looks Gaussian (fail to reject H0)') #Não pode-se afirmar que os dados vem de uma distribuição normal\n",
    "    else:\n",
    "        return False #('Sample does not look Gaussian (reject H0)') #Pode-se afirmar que os dados não vem de uma distribuição normal"
   ]
  },
  {
   "cell_type": "markdown",
   "metadata": {},
   "source": [
    "## Questão 6\n",
    "\n",
    "Repita o procedimento da questão 5, mas agora entre as alturas de `bra` e `can`. Podemos afimar agora que as médias são estatisticamente iguais? Reponda com um boolean (`True` ou `False`)."
   ]
  },
  {
   "cell_type": "code",
   "execution_count": null,
   "metadata": {},
   "outputs": [],
   "source": [
    "def q6():\n",
    "    bra = athletes.loc[athletes['nationality'] == 'BRA']\n",
    "    bra = bra.loc[bra['height'].isnull() == False] #Retirando valores missings\n",
    "    usa = athletes.loc[athletes['nationality'] == 'USA']\n",
    "    usa = usa.loc[usa['height'].isnull() == False]\n",
    "    can = athletes.loc[athletes['nationality'] == 'CAN']\n",
    "    can = can.loc[can['height'].isnull() == False]\n",
    "\n",
    "    #Amostras independentes: ttest_ind; Amostras dependentes: ttest_rel\n",
    "    #Variâncias diferentes: equal_var(True por default, significando iguais variâncias na amostra)\n",
    "    \n",
    "    stat, p = sct.ttest_ind(bra['height'].values, can['height'].values, equal_var=False)\n",
    "    \n",
    "    alpha = 0.05\n",
    "    if p > alpha:\n",
    "        return True #('Sample looks Gaussian (fail to reject H0)') #Não pode-se afirmar que os dados vem de uma distribuição normal\n",
    "    else:\n",
    "        return False #('Sample does not look Gaussian (reject H0)') #Pode-se afirmar que os dados não vem de uma distribuição normal"
   ]
  },
  {
   "cell_type": "markdown",
   "metadata": {},
   "source": [
    "## Questão 7\n",
    "\n",
    "Repita o procedimento da questão 6, mas agora entre as alturas de `usa` e `can`. Qual o valor do p-valor retornado? Responda como um único escalar arredondado para oito casas decimais."
   ]
  },
  {
   "cell_type": "code",
   "execution_count": null,
   "metadata": {},
   "outputs": [],
   "source": [
    "def q7():\n",
    "    bra = athletes.loc[athletes['nationality'] == 'BRA']\n",
    "    bra = bra.loc[bra['height'].isnull() == False] #Retirando valores missings\n",
    "    usa = athletes.loc[athletes['nationality'] == 'USA']\n",
    "    usa = usa.loc[usa['height'].isnull() == False]\n",
    "    can = athletes.loc[athletes['nationality'] == 'CAN']\n",
    "    can = can.loc[can['height'].isnull() == False]\n",
    "\n",
    "    #Amostras independentes: ttest_ind; Amostras dependentes: ttest_rel\n",
    "    #Variâncias diferentes: equal_var(True por default, significando iguais variâncias na amostra)\n",
    "    \n",
    "    stat, p = sct.ttest_ind(usa['height'].values, can['height'].values, equal_var=False)\n",
    "    \n",
    "    return float('%.8f' %p)"
   ]
  },
  {
   "cell_type": "markdown",
   "metadata": {},
   "source": [
    "__Para refletir__:\n",
    "\n",
    "* O resultado faz sentido?\n",
    "* Você consegue interpretar esse p-valor?\n",
    "* Você consegue chegar a esse valor de p-valor a partir da variável de estatística?"
   ]
  }
 ],
 "metadata": {
  "kernelspec": {
   "display_name": "Python 3",
   "language": "python",
   "name": "python3"
  },
  "language_info": {
   "codemirror_mode": {
    "name": "ipython",
    "version": 3
   },
   "file_extension": ".py",
   "mimetype": "text/x-python",
   "name": "python",
   "nbconvert_exporter": "python",
   "pygments_lexer": "ipython3",
   "version": "3.7.3"
  }
 },
 "nbformat": 4,
 "nbformat_minor": 2
}
